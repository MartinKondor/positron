{
 "cells": [
  {
   "cell_type": "markdown",
   "metadata": {},
   "source": [
    "### Predict House Prices with positron"
   ]
  },
  {
   "cell_type": "code",
   "execution_count": null,
   "metadata": {},
   "outputs": [],
   "source": [
    "import sys\n",
    "sys.path.insert(1, '../positron/')\n",
    "import numpy as np\n",
    "from sklearn.datasets import load_boston\n",
    "\n",
    "\n",
    "data = load_boston()\n",
    "# print(data[\"DESCR\"])\n",
    "X = np.array(data.data)\n",
    "y = np.array([data.target]).T\n",
    "print(\"Loading in the data\")\n",
    "print(\"X =\", X.shape, \"y =\", y.shape)"
   ]
  },
  {
   "cell_type": "markdown",
   "metadata": {},
   "source": [
    "Prepare the data. Normalize y values to be between [0;1].\n",
    "\n",
    "(Later the networks outputs must be scaled up from that)"
   ]
  },
  {
   "cell_type": "code",
   "execution_count": null,
   "metadata": {},
   "outputs": [],
   "source": [
    "import prep\n",
    "\n",
    "\n",
    "y_orig = np.copy(y)\n",
    "y = prep.normalize(y)\n",
    "print(\"Example outputs (non-normalized):\", y_orig[0])\n",
    "print(\"Example outputs (normalized):\", y[0])\n",
    "\n",
    "X_train, X_test, y_train, y_test = prep.split_train_test(X, y, 0.1)\n",
    "print(\"X_train =\", X_train.shape)\n",
    "print(\"X_test =\", X_test.shape)\n",
    "print(\"y_train =\", y_train.shape)\n",
    "print(\"y_test =\", y_test.shape)"
   ]
  },
  {
   "cell_type": "markdown",
   "metadata": {},
   "source": [
    "Create the network"
   ]
  },
  {
   "cell_type": "code",
   "execution_count": null,
   "metadata": {},
   "outputs": [],
   "source": [
    "import deep\n",
    "\n",
    "\n",
    "weight_sizes = [10, 50, 100, 50, 10, 1]\n",
    "ws, bs = deep.init_network(X.shape, weight_sizes)\n",
    "\n",
    "for w, b in zip(ws, bs):\n",
    "    print(w.shape, b.shape)"
   ]
  },
  {
   "cell_type": "code",
   "execution_count": null,
   "metadata": {},
   "outputs": [],
   "source": [
    "import activ\n",
    "\n",
    "\n",
    "activfs = [activ.sigmoid, activ.sigmoid, activ.sigmoid]\n",
    "dactivfs = [activ.dsigmoid, activ.dsigmoid, activ.dsigmoid]\n",
    "print(activfs)"
   ]
  },
  {
   "cell_type": "code",
   "execution_count": null,
   "metadata": {},
   "outputs": [],
   "source": [
    "import score\n",
    "\n",
    "\n",
    "cost = score.mse\n",
    "dcost = score.dmse\n",
    "print(cost)"
   ]
  },
  {
   "cell_type": "code",
   "execution_count": null,
   "metadata": {},
   "outputs": [],
   "source": [
    "import visual\n",
    "\n",
    "\n",
    "deep.seed(1)\n",
    "ws, bs = deep.init_network(X_train.shape, weight_sizes)\n",
    "ws, bs, cost_history = deep.SGD(\n",
    "    X_train,\n",
    "    y_train,\n",
    "    ws,\n",
    "    bs,\n",
    "    activfs,\n",
    "    dactivfs,\n",
    "    cost,\n",
    "    dcost,\n",
    "    epochs=10,\n",
    "    eta=0.01,\n",
    "    mini_batch_size=len(X_train),\n",
    "    verbose=True,\n",
    "    cost_history_needed=True)\n",
    "\n",
    "# visual.show_plot(cost_history)\n",
    "\n",
    "o = deep.feedforward(X_test, ws, bs, activfs)\n",
    "err = np.abs(o - y_test)\n",
    "print(f\"Max error = {np.max(err)}\")\n",
    "print(f\"Min error = {np.min(err)}\")\n",
    "o = o * np.max(y_orig)\n",
    "print(\"Examples:\")\n",
    "for i in range(5):\n",
    "    print(\"\\tOutput =\", np.round(o[i]), \"Desired Output\", y_orig[i])"
   ]
  },
  {
   "cell_type": "code",
   "execution_count": null,
   "metadata": {},
   "outputs": [],
   "source": []
  }
 ],
 "metadata": {
  "kernelspec": {
   "display_name": "Python 3.8.6 ('tf24')",
   "language": "python",
   "name": "python3"
  },
  "language_info": {
   "codemirror_mode": {
    "name": "ipython",
    "version": 3
   },
   "file_extension": ".py",
   "mimetype": "text/x-python",
   "name": "python",
   "nbconvert_exporter": "python",
   "pygments_lexer": "ipython3",
   "version": "3.8.6"
  },
  "orig_nbformat": 4,
  "vscode": {
   "interpreter": {
    "hash": "ffb167993fe3777eebd1d58bf889411d0374f965f7e584c6b7ef5919d82856cb"
   }
  }
 },
 "nbformat": 4,
 "nbformat_minor": 2
}
